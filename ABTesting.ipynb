{
 "cells": [
  {
   "cell_type": "code",
   "execution_count": 178,
   "id": "f54065fc",
   "metadata": {},
   "outputs": [],
   "source": [
    "import pandas as pd\n",
    "import numpy as np"
   ]
  },
  {
   "cell_type": "code",
   "execution_count": 179,
   "id": "827bbba5",
   "metadata": {},
   "outputs": [],
   "source": [
    "ab_testing = pd.read_csv('AB_test_data.csv')"
   ]
  },
  {
   "cell_type": "code",
   "execution_count": 180,
   "id": "e5b36f48",
   "metadata": {},
   "outputs": [
    {
     "data": {
      "text/html": [
       "<div>\n",
       "<style scoped>\n",
       "    .dataframe tbody tr th:only-of-type {\n",
       "        vertical-align: middle;\n",
       "    }\n",
       "\n",
       "    .dataframe tbody tr th {\n",
       "        vertical-align: top;\n",
       "    }\n",
       "\n",
       "    .dataframe thead th {\n",
       "        text-align: right;\n",
       "    }\n",
       "</style>\n",
       "<table border=\"1\" class=\"dataframe\">\n",
       "  <thead>\n",
       "    <tr style=\"text-align: right;\">\n",
       "      <th></th>\n",
       "      <th>purchase_TF</th>\n",
       "      <th>Variant</th>\n",
       "      <th>date</th>\n",
       "      <th>id</th>\n",
       "    </tr>\n",
       "  </thead>\n",
       "  <tbody>\n",
       "    <tr>\n",
       "      <th>0</th>\n",
       "      <td>False</td>\n",
       "      <td>A</td>\n",
       "      <td>2019-11-08</td>\n",
       "      <td>0x25b44a</td>\n",
       "    </tr>\n",
       "    <tr>\n",
       "      <th>1</th>\n",
       "      <td>False</td>\n",
       "      <td>B</td>\n",
       "      <td>2020-08-27</td>\n",
       "      <td>0x46271e</td>\n",
       "    </tr>\n",
       "    <tr>\n",
       "      <th>2</th>\n",
       "      <td>False</td>\n",
       "      <td>A</td>\n",
       "      <td>2020-06-11</td>\n",
       "      <td>0x80b8f1</td>\n",
       "    </tr>\n",
       "    <tr>\n",
       "      <th>3</th>\n",
       "      <td>False</td>\n",
       "      <td>B</td>\n",
       "      <td>2020-08-22</td>\n",
       "      <td>0x8d736d</td>\n",
       "    </tr>\n",
       "    <tr>\n",
       "      <th>4</th>\n",
       "      <td>False</td>\n",
       "      <td>A</td>\n",
       "      <td>2020-08-05</td>\n",
       "      <td>0x96c9c8</td>\n",
       "    </tr>\n",
       "    <tr>\n",
       "      <th>...</th>\n",
       "      <td>...</td>\n",
       "      <td>...</td>\n",
       "      <td>...</td>\n",
       "      <td>...</td>\n",
       "    </tr>\n",
       "    <tr>\n",
       "      <th>129995</th>\n",
       "      <td>False</td>\n",
       "      <td>A</td>\n",
       "      <td>2020-07-23</td>\n",
       "      <td>0x4089c2</td>\n",
       "    </tr>\n",
       "    <tr>\n",
       "      <th>129996</th>\n",
       "      <td>False</td>\n",
       "      <td>A</td>\n",
       "      <td>2020-06-24</td>\n",
       "      <td>0x6a5e3a</td>\n",
       "    </tr>\n",
       "    <tr>\n",
       "      <th>129997</th>\n",
       "      <td>False</td>\n",
       "      <td>A</td>\n",
       "      <td>2019-10-12</td>\n",
       "      <td>0x95e302</td>\n",
       "    </tr>\n",
       "    <tr>\n",
       "      <th>129998</th>\n",
       "      <td>False</td>\n",
       "      <td>A</td>\n",
       "      <td>2020-03-18</td>\n",
       "      <td>0x7c4afa</td>\n",
       "    </tr>\n",
       "    <tr>\n",
       "      <th>129999</th>\n",
       "      <td>False</td>\n",
       "      <td>A</td>\n",
       "      <td>2019-12-09</td>\n",
       "      <td>0x380071</td>\n",
       "    </tr>\n",
       "  </tbody>\n",
       "</table>\n",
       "<p>130000 rows × 4 columns</p>\n",
       "</div>"
      ],
      "text/plain": [
       "        purchase_TF Variant        date        id\n",
       "0             False       A  2019-11-08  0x25b44a\n",
       "1             False       B  2020-08-27  0x46271e\n",
       "2             False       A  2020-06-11  0x80b8f1\n",
       "3             False       B  2020-08-22  0x8d736d\n",
       "4             False       A  2020-08-05  0x96c9c8\n",
       "...             ...     ...         ...       ...\n",
       "129995        False       A  2020-07-23  0x4089c2\n",
       "129996        False       A  2020-06-24  0x6a5e3a\n",
       "129997        False       A  2019-10-12  0x95e302\n",
       "129998        False       A  2020-03-18  0x7c4afa\n",
       "129999        False       A  2019-12-09  0x380071\n",
       "\n",
       "[130000 rows x 4 columns]"
      ]
     },
     "execution_count": 180,
     "metadata": {},
     "output_type": "execute_result"
    }
   ],
   "source": [
    "ab_testing"
   ]
  },
  {
   "cell_type": "code",
   "execution_count": 181,
   "id": "5917f180",
   "metadata": {},
   "outputs": [
    {
     "data": {
      "text/plain": [
       "purchase_TF    False\n",
       "Variant        False\n",
       "date           False\n",
       "id             False\n",
       "dtype: bool"
      ]
     },
     "execution_count": 181,
     "metadata": {},
     "output_type": "execute_result"
    }
   ],
   "source": [
    "ab_testing.isnull().any()"
   ]
  },
  {
   "cell_type": "markdown",
   "id": "c315dbff",
   "metadata": {},
   "source": [
    "# Question 1"
   ]
  },
  {
   "cell_type": "code",
   "execution_count": 182,
   "id": "559e80ee",
   "metadata": {},
   "outputs": [],
   "source": [
    "control = ab_testing[ab_testing.Variant=='A']\n",
    "treatment = ab_testing[ab_testing.Variant=='B']\n",
    "#control\n",
    "#treatment"
   ]
  },
  {
   "cell_type": "code",
   "execution_count": 184,
   "id": "0ea86d99",
   "metadata": {},
   "outputs": [],
   "source": [
    "control_F = control[control.purchase_TF == False]\n",
    "control_T = control[control.purchase_TF == True]"
   ]
  },
  {
   "cell_type": "code",
   "execution_count": 185,
   "id": "5d64a4d2",
   "metadata": {
    "scrolled": true
   },
   "outputs": [
    {
     "data": {
      "text/plain": [
       "0.149616"
      ]
     },
     "execution_count": 185,
     "metadata": {},
     "output_type": "execute_result"
    }
   ],
   "source": [
    "conv_A = control_T.shape[0]/control.shape[0]\n",
    "conv_A# control_F\n",
    "# control_T"
   ]
  },
  {
   "cell_type": "code",
   "execution_count": 186,
   "id": "c5c6e92d",
   "metadata": {},
   "outputs": [],
   "source": [
    "treatment_F = treatment[treatment.purchase_TF == False]\n",
    "treatment_T = treatment[treatment.purchase_TF == True]"
   ]
  },
  {
   "cell_type": "code",
   "execution_count": 187,
   "id": "64fd0e53",
   "metadata": {},
   "outputs": [],
   "source": [
    "#treatment_F\n",
    "#treatment_T"
   ]
  },
  {
   "cell_type": "code",
   "execution_count": 188,
   "id": "5d7ed782",
   "metadata": {},
   "outputs": [
    {
     "data": {
      "text/plain": [
       "0.149616"
      ]
     },
     "execution_count": 188,
     "metadata": {},
     "output_type": "execute_result"
    }
   ],
   "source": [
    "conv_A = control_T.shape[0]/control.shape[0]\n",
    "conv_A"
   ]
  },
  {
   "cell_type": "code",
   "execution_count": 189,
   "id": "9eef18d4",
   "metadata": {},
   "outputs": [
    {
     "data": {
      "text/plain": [
       "0.1766"
      ]
     },
     "execution_count": 189,
     "metadata": {},
     "output_type": "execute_result"
    }
   ],
   "source": [
    "conv_B = treatment_T.shape[0]/treatment.shape[0]\n",
    "conv_B"
   ]
  },
  {
   "cell_type": "markdown",
   "id": "8f80a96a",
   "metadata": {},
   "source": [
    "# Question 2"
   ]
  },
  {
   "cell_type": "markdown",
   "id": "f4d83087",
   "metadata": {},
   "source": [
    "# H0: p2 - p1 = 0\n",
    "# Ha: p2 - p1 ≠ 0"
   ]
  },
  {
   "cell_type": "code",
   "execution_count": 190,
   "id": "c8c79897",
   "metadata": {},
   "outputs": [],
   "source": [
    "# H0 is the ammsumption we want to reject. only when we think there is difference between these two group,\n",
    "# it is reasonable for us to conduct A/B testing."
   ]
  },
  {
   "cell_type": "code",
   "execution_count": 191,
   "id": "b9e653a6",
   "metadata": {},
   "outputs": [],
   "source": [
    "# 95% confidence rate =(1-α)\n",
    "# α = 0.05 = Significance Level = probability of type 1 error \n",
    "# 80% Statistical Power = (1-β)\n",
    "# β = 0.2 = probability of type 2 error \n",
    "\n",
    "# Baseline Rate = conversionrate_A = 0.149616\n",
    "# Minimum Detectable Effect = 0.05"
   ]
  },
  {
   "cell_type": "code",
   "execution_count": 192,
   "id": "8c550612",
   "metadata": {},
   "outputs": [],
   "source": [
    "import math"
   ]
  },
  {
   "cell_type": "code",
   "execution_count": 193,
   "id": "5ae25e33",
   "metadata": {},
   "outputs": [],
   "source": [
    "# z_A = z_α/2 = z_0.025\n",
    "# calculate z score：\n",
    "# z=norm.isf(0.05/2)\n",
    "#z_A = 1.96 \n",
    "\n",
    "# z_B = z_β = z_0.2\n",
    "# calculate z score：\n",
    "# z=norm.isf(0.2)\n",
    "#z_B = 0.84"
   ]
  },
  {
   "cell_type": "code",
   "execution_count": 194,
   "id": "ced9c9d5",
   "metadata": {},
   "outputs": [],
   "source": [
    "from scipy.stats import norm\n",
    "z_A = abs(norm(0,1).ppf(0.025))\n",
    "z_B = abs(norm(0,1).ppf(0.2))"
   ]
  },
  {
   "cell_type": "code",
   "execution_count": null,
   "id": "b9dd7663",
   "metadata": {},
   "outputs": [],
   "source": []
  },
  {
   "cell_type": "code",
   "execution_count": 195,
   "id": "cc4254f0",
   "metadata": {},
   "outputs": [],
   "source": [
    "p1 = conv_A\n",
    "# 0.149616\n",
    "p2 = conv_B\n",
    "# 0.1766"
   ]
  },
  {
   "cell_type": "code",
   "execution_count": 196,
   "id": "bc383081",
   "metadata": {},
   "outputs": [],
   "source": [
    "# using formula to calculate optimal sample size"
   ]
  },
  {
   "cell_type": "code",
   "execution_count": 197,
   "id": "ae5d97cd",
   "metadata": {},
   "outputs": [
    {
     "data": {
      "text/plain": [
       "2942"
      ]
     },
     "execution_count": 197,
     "metadata": {},
     "output_type": "execute_result"
    }
   ],
   "source": [
    "a = 2*(p1+p2)/2\n",
    "b = 1- (p1+p2)/2\n",
    "c = p1*(1-p1)\n",
    "d = p2*(1-p2)\n",
    "e = abs(p1-p2)\n",
    "\n",
    "opt_size = ((z_A * math.sqrt(a * b)+z_B * math.sqrt(c+d))**2)/e**2\n",
    "opt_size = math.ceil(opt_size)\n",
    "opt_size"
   ]
  },
  {
   "cell_type": "code",
   "execution_count": 198,
   "id": "f22d0ea4",
   "metadata": {},
   "outputs": [],
   "source": [
    "# the optimal sample size is 2942"
   ]
  },
  {
   "cell_type": "code",
   "execution_count": 199,
   "id": "2928b90f",
   "metadata": {},
   "outputs": [],
   "source": [
    "# use library to double check my optimal sample size"
   ]
  },
  {
   "cell_type": "code",
   "execution_count": 200,
   "id": "54c72cda",
   "metadata": {},
   "outputs": [],
   "source": [
    "from statsmodels.stats.power import zt_ind_solve_power\n",
    "from statsmodels.stats.proportion import proportion_effectsize as es"
   ]
  },
  {
   "cell_type": "code",
   "execution_count": 201,
   "id": "eeb83f03",
   "metadata": {},
   "outputs": [
    {
     "data": {
      "text/plain": [
       "2938.2739443584583"
      ]
     },
     "execution_count": 201,
     "metadata": {},
     "output_type": "execute_result"
    }
   ],
   "source": [
    "zt_ind_solve_power(effect_size=es(prop1=p1, prop2=p2), alpha=0.05, power=0.8, alternative=\"two-sided\")"
   ]
  },
  {
   "cell_type": "code",
   "execution_count": 202,
   "id": "c5e5b184",
   "metadata": {},
   "outputs": [],
   "source": [
    "# another method"
   ]
  },
  {
   "cell_type": "code",
   "execution_count": 203,
   "id": "baf71226",
   "metadata": {},
   "outputs": [],
   "source": [
    "from scipy.stats import norm,zscore"
   ]
  },
  {
   "cell_type": "code",
   "execution_count": 204,
   "id": "645e42bb",
   "metadata": {},
   "outputs": [],
   "source": [
    "def sample_power_probtest(p1,p2,power=0.8,sig=0.05):\n",
    "    z=norm.isf([sig/2])\n",
    "    zp=-1*norm.isf([power])\n",
    "    d=(p1-p2)\n",
    "    s=2*((p1+p2)/2)*(1-((p1+p2)/2))\n",
    "    n=s*((zp+z)**2)/(d**2)\n",
    "    return int(round(n[0]))"
   ]
  },
  {
   "cell_type": "code",
   "execution_count": 205,
   "id": "a8ffacff",
   "metadata": {},
   "outputs": [
    {
     "data": {
      "text/plain": [
       "2943"
      ]
     },
     "execution_count": 205,
     "metadata": {},
     "output_type": "execute_result"
    }
   ],
   "source": [
    "sample_power_probtest(p1,p2)"
   ]
  },
  {
   "cell_type": "code",
   "execution_count": 206,
   "id": "7b301012",
   "metadata": {},
   "outputs": [],
   "source": [
    "# another method"
   ]
  },
  {
   "cell_type": "code",
   "execution_count": 207,
   "id": "76dd65e1",
   "metadata": {},
   "outputs": [],
   "source": [
    "import numpy as np\n",
    "import pandas as pd\n",
    "import scipy.stats as stats\n",
    "import statsmodels.stats.api as sms\n",
    "import matplotlib as mpl\n",
    "import matplotlib.pyplot as plt\n",
    "import seaborn as sns\n",
    "from math import ceil"
   ]
  },
  {
   "cell_type": "code",
   "execution_count": 208,
   "id": "ee02f1d7",
   "metadata": {},
   "outputs": [
    {
     "name": "stdout",
     "output_type": "stream",
     "text": [
      "2938.2739443584583\n"
     ]
    }
   ],
   "source": [
    "effect_size = sms.proportion_effectsize(p1, p2)   \n",
    "required_n = sms.NormalIndPower().solve_power(\n",
    "    effect_size, \n",
    "    power=0.8, \n",
    "    alpha=0.05, \n",
    "    ratio=1\n",
    "    )  \n",
    "print(required_n)"
   ]
  },
  {
   "cell_type": "code",
   "execution_count": 209,
   "id": "e1b33350",
   "metadata": {},
   "outputs": [],
   "source": [
    "# Conduct the test 10 times using samples of the optimal size"
   ]
  },
  {
   "cell_type": "markdown",
   "id": "c194ae85",
   "metadata": {},
   "source": [
    "# 10 samples"
   ]
  },
  {
   "cell_type": "code",
   "execution_count": 210,
   "id": "7db2c687",
   "metadata": {},
   "outputs": [],
   "source": [
    "import pandas as pd\n",
    "import numpy as np"
   ]
  },
  {
   "cell_type": "code",
   "execution_count": 211,
   "id": "6d2d427d",
   "metadata": {},
   "outputs": [],
   "source": [
    "new_ab_testing = pd.read_csv('AB_test_data.csv')"
   ]
  },
  {
   "cell_type": "code",
   "execution_count": 212,
   "id": "623ac355",
   "metadata": {},
   "outputs": [
    {
     "name": "stdout",
     "output_type": "stream",
     "text": [
      "<class 'pandas.core.frame.DataFrame'>\n",
      "RangeIndex: 130000 entries, 0 to 129999\n",
      "Data columns (total 4 columns):\n",
      " #   Column       Non-Null Count   Dtype \n",
      "---  ------       --------------   ----- \n",
      " 0   purchase_TF  130000 non-null  bool  \n",
      " 1   Variant      130000 non-null  object\n",
      " 2   date         130000 non-null  object\n",
      " 3   id           130000 non-null  object\n",
      "dtypes: bool(1), object(3)\n",
      "memory usage: 3.1+ MB\n"
     ]
    }
   ],
   "source": [
    "new_ab_testing.info()"
   ]
  },
  {
   "cell_type": "code",
   "execution_count": 213,
   "id": "20a161b8",
   "metadata": {},
   "outputs": [
    {
     "data": {
      "text/html": [
       "<div>\n",
       "<style scoped>\n",
       "    .dataframe tbody tr th:only-of-type {\n",
       "        vertical-align: middle;\n",
       "    }\n",
       "\n",
       "    .dataframe tbody tr th {\n",
       "        vertical-align: top;\n",
       "    }\n",
       "\n",
       "    .dataframe thead th {\n",
       "        text-align: right;\n",
       "    }\n",
       "</style>\n",
       "<table border=\"1\" class=\"dataframe\">\n",
       "  <thead>\n",
       "    <tr style=\"text-align: right;\">\n",
       "      <th>purchase_TF</th>\n",
       "      <th>False</th>\n",
       "      <th>True</th>\n",
       "    </tr>\n",
       "    <tr>\n",
       "      <th>Variant</th>\n",
       "      <th></th>\n",
       "      <th></th>\n",
       "    </tr>\n",
       "  </thead>\n",
       "  <tbody>\n",
       "    <tr>\n",
       "      <th>A</th>\n",
       "      <td>106298</td>\n",
       "      <td>18702</td>\n",
       "    </tr>\n",
       "    <tr>\n",
       "      <th>B</th>\n",
       "      <td>4117</td>\n",
       "      <td>883</td>\n",
       "    </tr>\n",
       "  </tbody>\n",
       "</table>\n",
       "</div>"
      ],
      "text/plain": [
       "purchase_TF   False  True \n",
       "Variant                   \n",
       "A            106298  18702\n",
       "B              4117    883"
      ]
     },
     "execution_count": 213,
     "metadata": {},
     "output_type": "execute_result"
    }
   ],
   "source": [
    "pd.crosstab(new_ab_testing['Variant'], new_ab_testing['purchase_TF'])"
   ]
  },
  {
   "cell_type": "code",
   "execution_count": 214,
   "id": "bc7f7765",
   "metadata": {},
   "outputs": [],
   "source": [
    "# Before we go ahead and sample the data to get our subset, \n",
    "#let’s make sure there are no users that have been sampled multiple times."
   ]
  },
  {
   "cell_type": "code",
   "execution_count": 215,
   "id": "f748ddd6",
   "metadata": {},
   "outputs": [],
   "source": [
    "session_counts = new_ab_testing['id'].value_counts(ascending=False)"
   ]
  },
  {
   "cell_type": "code",
   "execution_count": 216,
   "id": "c4b7cfdb",
   "metadata": {},
   "outputs": [
    {
     "name": "stdout",
     "output_type": "stream",
     "text": [
      "There are 0 users that appear multiple times in the dataset\n"
     ]
    }
   ],
   "source": [
    "multi_users = session_counts[session_counts > 1].count()\n",
    "\n",
    "print(f'There are {multi_users} users that appear multiple times in the dataset')"
   ]
  },
  {
   "cell_type": "code",
   "execution_count": null,
   "id": "8aaaad3d",
   "metadata": {},
   "outputs": [],
   "source": []
  },
  {
   "cell_type": "code",
   "execution_count": 217,
   "id": "cf72b59b",
   "metadata": {},
   "outputs": [],
   "source": [
    "samplelist = []\n",
    "for i in range(0,10):\n",
    "    control_sample = new_ab_testing[new_ab_testing['Variant'] == 'A'].sample(n=opt_size, random_state=i)\n",
    "    treatment_sample = new_ab_testing[new_ab_testing['Variant'] == 'B'].sample(n=opt_size, random_state=i)\n",
    "    ab_test = pd.concat([control_sample, treatment_sample], axis=0)\n",
    "    samplelist.append(ab_test)\n",
    "    ab_test.reset_index(drop=True, inplace=True)\n",
    "samp_1 = samplelist[0]\n",
    "samp_2 = samplelist[1]\n",
    "samp_3 = samplelist[2]\n",
    "samp_4 = samplelist[3]\n",
    "samp_5  = samplelist[4]\n",
    "samp_6  = samplelist[5]\n",
    "samp_7  = samplelist[6]\n",
    "samp_8  = samplelist[7]\n",
    "samp_9  = samplelist[8]\n",
    "samp_10  = samplelist[9]"
   ]
  },
  {
   "cell_type": "code",
   "execution_count": 218,
   "id": "bd6dd0ef",
   "metadata": {},
   "outputs": [
    {
     "data": {
      "text/html": [
       "<div>\n",
       "<style scoped>\n",
       "    .dataframe tbody tr th:only-of-type {\n",
       "        vertical-align: middle;\n",
       "    }\n",
       "\n",
       "    .dataframe tbody tr th {\n",
       "        vertical-align: top;\n",
       "    }\n",
       "\n",
       "    .dataframe thead th {\n",
       "        text-align: right;\n",
       "    }\n",
       "</style>\n",
       "<table border=\"1\" class=\"dataframe\">\n",
       "  <thead>\n",
       "    <tr style=\"text-align: right;\">\n",
       "      <th></th>\n",
       "      <th>purchase_TF</th>\n",
       "      <th>Variant</th>\n",
       "      <th>date</th>\n",
       "      <th>id</th>\n",
       "    </tr>\n",
       "  </thead>\n",
       "  <tbody>\n",
       "    <tr>\n",
       "      <th>0</th>\n",
       "      <td>False</td>\n",
       "      <td>A</td>\n",
       "      <td>2020-08-08</td>\n",
       "      <td>0x776020</td>\n",
       "    </tr>\n",
       "    <tr>\n",
       "      <th>1</th>\n",
       "      <td>False</td>\n",
       "      <td>A</td>\n",
       "      <td>2020-03-20</td>\n",
       "      <td>0x66a543</td>\n",
       "    </tr>\n",
       "    <tr>\n",
       "      <th>2</th>\n",
       "      <td>False</td>\n",
       "      <td>A</td>\n",
       "      <td>2020-03-04</td>\n",
       "      <td>0x2e6bec</td>\n",
       "    </tr>\n",
       "    <tr>\n",
       "      <th>3</th>\n",
       "      <td>False</td>\n",
       "      <td>A</td>\n",
       "      <td>2019-08-27</td>\n",
       "      <td>0x627a0c</td>\n",
       "    </tr>\n",
       "    <tr>\n",
       "      <th>4</th>\n",
       "      <td>False</td>\n",
       "      <td>A</td>\n",
       "      <td>2019-10-04</td>\n",
       "      <td>0x1c7e95</td>\n",
       "    </tr>\n",
       "    <tr>\n",
       "      <th>...</th>\n",
       "      <td>...</td>\n",
       "      <td>...</td>\n",
       "      <td>...</td>\n",
       "      <td>...</td>\n",
       "    </tr>\n",
       "    <tr>\n",
       "      <th>5879</th>\n",
       "      <td>False</td>\n",
       "      <td>B</td>\n",
       "      <td>2020-08-26</td>\n",
       "      <td>0x895869</td>\n",
       "    </tr>\n",
       "    <tr>\n",
       "      <th>5880</th>\n",
       "      <td>False</td>\n",
       "      <td>B</td>\n",
       "      <td>2020-08-19</td>\n",
       "      <td>0x6e4eb4</td>\n",
       "    </tr>\n",
       "    <tr>\n",
       "      <th>5881</th>\n",
       "      <td>False</td>\n",
       "      <td>B</td>\n",
       "      <td>2020-08-21</td>\n",
       "      <td>0x2779ac</td>\n",
       "    </tr>\n",
       "    <tr>\n",
       "      <th>5882</th>\n",
       "      <td>True</td>\n",
       "      <td>B</td>\n",
       "      <td>2020-08-30</td>\n",
       "      <td>0x2c12ac</td>\n",
       "    </tr>\n",
       "    <tr>\n",
       "      <th>5883</th>\n",
       "      <td>False</td>\n",
       "      <td>B</td>\n",
       "      <td>2020-08-18</td>\n",
       "      <td>0x39e8e6</td>\n",
       "    </tr>\n",
       "  </tbody>\n",
       "</table>\n",
       "<p>5884 rows × 4 columns</p>\n",
       "</div>"
      ],
      "text/plain": [
       "      purchase_TF Variant        date        id\n",
       "0           False       A  2020-08-08  0x776020\n",
       "1           False       A  2020-03-20  0x66a543\n",
       "2           False       A  2020-03-04  0x2e6bec\n",
       "3           False       A  2019-08-27  0x627a0c\n",
       "4           False       A  2019-10-04  0x1c7e95\n",
       "...           ...     ...         ...       ...\n",
       "5879        False       B  2020-08-26  0x895869\n",
       "5880        False       B  2020-08-19  0x6e4eb4\n",
       "5881        False       B  2020-08-21  0x2779ac\n",
       "5882         True       B  2020-08-30  0x2c12ac\n",
       "5883        False       B  2020-08-18  0x39e8e6\n",
       "\n",
       "[5884 rows x 4 columns]"
      ]
     },
     "execution_count": 218,
     "metadata": {},
     "output_type": "execute_result"
    }
   ],
   "source": [
    "samp_1"
   ]
  },
  {
   "cell_type": "code",
   "execution_count": 219,
   "id": "6935fdef",
   "metadata": {},
   "outputs": [
    {
     "data": {
      "text/html": [
       "<div>\n",
       "<style scoped>\n",
       "    .dataframe tbody tr th:only-of-type {\n",
       "        vertical-align: middle;\n",
       "    }\n",
       "\n",
       "    .dataframe tbody tr th {\n",
       "        vertical-align: top;\n",
       "    }\n",
       "\n",
       "    .dataframe thead th {\n",
       "        text-align: right;\n",
       "    }\n",
       "</style>\n",
       "<table border=\"1\" class=\"dataframe\">\n",
       "  <thead>\n",
       "    <tr style=\"text-align: right;\">\n",
       "      <th></th>\n",
       "      <th>purchase_TF</th>\n",
       "      <th>Variant</th>\n",
       "      <th>date</th>\n",
       "      <th>id</th>\n",
       "    </tr>\n",
       "  </thead>\n",
       "  <tbody>\n",
       "    <tr>\n",
       "      <th>0</th>\n",
       "      <td>True</td>\n",
       "      <td>A</td>\n",
       "      <td>2020-07-09</td>\n",
       "      <td>0x11b683</td>\n",
       "    </tr>\n",
       "    <tr>\n",
       "      <th>1</th>\n",
       "      <td>False</td>\n",
       "      <td>A</td>\n",
       "      <td>2020-07-12</td>\n",
       "      <td>0x4c2024</td>\n",
       "    </tr>\n",
       "    <tr>\n",
       "      <th>2</th>\n",
       "      <td>True</td>\n",
       "      <td>A</td>\n",
       "      <td>2020-01-02</td>\n",
       "      <td>0x62e974</td>\n",
       "    </tr>\n",
       "    <tr>\n",
       "      <th>3</th>\n",
       "      <td>False</td>\n",
       "      <td>A</td>\n",
       "      <td>2020-03-17</td>\n",
       "      <td>0x550902</td>\n",
       "    </tr>\n",
       "    <tr>\n",
       "      <th>4</th>\n",
       "      <td>False</td>\n",
       "      <td>A</td>\n",
       "      <td>2020-07-03</td>\n",
       "      <td>0x499a93</td>\n",
       "    </tr>\n",
       "    <tr>\n",
       "      <th>...</th>\n",
       "      <td>...</td>\n",
       "      <td>...</td>\n",
       "      <td>...</td>\n",
       "      <td>...</td>\n",
       "    </tr>\n",
       "    <tr>\n",
       "      <th>5879</th>\n",
       "      <td>True</td>\n",
       "      <td>B</td>\n",
       "      <td>2020-08-26</td>\n",
       "      <td>0x1769ab</td>\n",
       "    </tr>\n",
       "    <tr>\n",
       "      <th>5880</th>\n",
       "      <td>False</td>\n",
       "      <td>B</td>\n",
       "      <td>2020-08-24</td>\n",
       "      <td>0x3afb2f</td>\n",
       "    </tr>\n",
       "    <tr>\n",
       "      <th>5881</th>\n",
       "      <td>True</td>\n",
       "      <td>B</td>\n",
       "      <td>2020-08-15</td>\n",
       "      <td>0x3e7bd0</td>\n",
       "    </tr>\n",
       "    <tr>\n",
       "      <th>5882</th>\n",
       "      <td>False</td>\n",
       "      <td>B</td>\n",
       "      <td>2020-08-15</td>\n",
       "      <td>0x5e8596</td>\n",
       "    </tr>\n",
       "    <tr>\n",
       "      <th>5883</th>\n",
       "      <td>False</td>\n",
       "      <td>B</td>\n",
       "      <td>2020-08-25</td>\n",
       "      <td>0x229e42</td>\n",
       "    </tr>\n",
       "  </tbody>\n",
       "</table>\n",
       "<p>5884 rows × 4 columns</p>\n",
       "</div>"
      ],
      "text/plain": [
       "      purchase_TF Variant        date        id\n",
       "0            True       A  2020-07-09  0x11b683\n",
       "1           False       A  2020-07-12  0x4c2024\n",
       "2            True       A  2020-01-02  0x62e974\n",
       "3           False       A  2020-03-17  0x550902\n",
       "4           False       A  2020-07-03  0x499a93\n",
       "...           ...     ...         ...       ...\n",
       "5879         True       B  2020-08-26  0x1769ab\n",
       "5880        False       B  2020-08-24  0x3afb2f\n",
       "5881         True       B  2020-08-15  0x3e7bd0\n",
       "5882        False       B  2020-08-15  0x5e8596\n",
       "5883        False       B  2020-08-25  0x229e42\n",
       "\n",
       "[5884 rows x 4 columns]"
      ]
     },
     "execution_count": 219,
     "metadata": {},
     "output_type": "execute_result"
    }
   ],
   "source": [
    "samp_2"
   ]
  },
  {
   "cell_type": "code",
   "execution_count": 220,
   "id": "72b4b747",
   "metadata": {},
   "outputs": [],
   "source": [
    "#control_sample = new_ab_testing[new_ab_testing['Variant'] == 'A'].sample(n=opt_size, random_state=68)\n",
    "#treatment_sample = new_ab_testing[new_ab_testing['Variant'] == 'B'].sample(n=opt_size, random_state=68)\n",
    "# n needs to be int, so we need to math.ceil or int our optimal size calculating before"
   ]
  },
  {
   "cell_type": "code",
   "execution_count": 221,
   "id": "88bb7c41",
   "metadata": {},
   "outputs": [],
   "source": [
    "#ab_test = pd.concat([control_sample, treatment_sample], axis=0)\n",
    "#ab_test.reset_index(drop=True, inplace=True)"
   ]
  },
  {
   "cell_type": "code",
   "execution_count": 222,
   "id": "36d6dc9f",
   "metadata": {},
   "outputs": [],
   "source": [
    "#ab_test"
   ]
  },
  {
   "cell_type": "code",
   "execution_count": null,
   "id": "7e45c6ea",
   "metadata": {},
   "outputs": [],
   "source": []
  },
  {
   "cell_type": "markdown",
   "id": "546eaeba",
   "metadata": {},
   "source": [
    "# Question 3"
   ]
  },
  {
   "cell_type": "code",
   "execution_count": null,
   "id": "346aa848",
   "metadata": {},
   "outputs": [],
   "source": []
  },
  {
   "cell_type": "code",
   "execution_count": 223,
   "id": "94a3b34a",
   "metadata": {},
   "outputs": [],
   "source": [
    "# 95% confidence rate =(1-α)\n",
    "# α = 0.05 = Significance Level = probability of type 1 error \n",
    "# 80% Statistical Power = (1-β)\n",
    "# β = 0.2 = probability of type 2 error \n",
    "\n",
    "# Baseline Rate = conversionrate_A = 0.149616\n",
    "# Minimum Detectable Effect = 0.05"
   ]
  },
  {
   "cell_type": "code",
   "execution_count": 224,
   "id": "6fa3b331",
   "metadata": {},
   "outputs": [],
   "source": [
    "sample_F = control[control.purchase_TF == False]\n",
    "control_T = control[control.purchase_TF == True]"
   ]
  },
  {
   "cell_type": "code",
   "execution_count": 225,
   "id": "cf6f0005",
   "metadata": {},
   "outputs": [],
   "source": [
    "p1 = conv_A #p(h0)\n",
    "# 0.149616\n",
    "p2 = conv_B #p(h1)\n",
    "# 0.1766"
   ]
  },
  {
   "cell_type": "code",
   "execution_count": 235,
   "id": "c0165783",
   "metadata": {},
   "outputs": [
    {
     "name": "stdout",
     "output_type": "stream",
     "text": [
      "BoundA is 2.995732273553991\n",
      "BoundB is -1.6094379124341003\n"
     ]
    }
   ],
   "source": [
    "α = 0.05\n",
    "β = 0.2\n",
    "boundA = np.log(1/α) #lnA\n",
    "print(\"BoundA is\",boundA)\n",
    "boundB = np.log(β) #lnB\n",
    "print(\"BoundB is\",boundB)"
   ]
  },
  {
   "cell_type": "code",
   "execution_count": 231,
   "id": "1cade3cd",
   "metadata": {},
   "outputs": [
    {
     "name": "stdout",
     "output_type": "stream",
     "text": [
      "We will accept H_0 for sample 1 on trail 788\n",
      "We will accept H_0 for sample 2 on trail 2206\n",
      "We will accept H_0 for sample 3 on trail 113\n",
      "We will reject H_0 for sample 4 on trail 1656\n",
      "We will accept H_0 for sample 5 on trail 976\n",
      "We will reject H_0 for sample 6 on trail 573\n",
      "We will accept H_0 for sample 8 on trail 271\n",
      "We will accept H_0 for sample 9 on trail 235\n",
      "We will reject H_0 for sample 10 on trail 1047\n",
      "The average is 873.8888888888889\n"
     ]
    }
   ],
   "source": [
    "iteration = 0\n",
    "time = 0\n",
    "for i in range (1,11):\n",
    "    #print(i)\n",
    "    curln = 0\n",
    "    ln =0\n",
    "    j = 0\n",
    "    cur = samplelist[i-1]\n",
    "    #print(cur)\n",
    "    A = cur[cur['Variant']=='A']\n",
    "    m0 = np.mean(A[\"purchase_TF\"])\n",
    "    B = cur[cur['Variant']=='B']\n",
    "    m1 = np.mean(B[\"purchase_TF\"])\n",
    "    while j<2942:\n",
    "        #print(B[\"purchase_TF\"][j:j+1])\n",
    "        diff = int(B[\"purchase_TF\"][j:j+1])-int(A[\"purchase_TF\"][j:j+1])\n",
    "        #print(diff)\n",
    "        if diff == 1:\n",
    "            #print(diff)\n",
    "            ln = math.log(m1/m0)\n",
    "        elif diff == 0:\n",
    "            ln = math.log((1-m1)/(1-m0))\n",
    "            #print(ln)\n",
    "        curln += ln\n",
    "        if curln <= boundB:\n",
    "            print(\"We will accept H_0 for sample\",i,\"on trail\",j)\n",
    "            iteration += j\n",
    "            time+=1\n",
    "            break\n",
    "        elif curln >= boundA:\n",
    "            print(\"We will reject H_0 for sample\",i,\"on trail\",j)\n",
    "            iteration += j\n",
    "            time+=1\n",
    "            break\n",
    "        \n",
    "        j+=1\n",
    "average = iteration/time\n",
    "print(\"The average is\",average)\n",
    "    \n",
    "        "
   ]
  },
  {
   "cell_type": "code",
   "execution_count": null,
   "id": "39d83f28",
   "metadata": {},
   "outputs": [],
   "source": []
  },
  {
   "cell_type": "code",
   "execution_count": null,
   "id": "25874010",
   "metadata": {},
   "outputs": [],
   "source": []
  },
  {
   "cell_type": "code",
   "execution_count": null,
   "id": "1eef7f47",
   "metadata": {},
   "outputs": [],
   "source": []
  },
  {
   "cell_type": "code",
   "execution_count": null,
   "id": "25f27701",
   "metadata": {},
   "outputs": [],
   "source": []
  },
  {
   "cell_type": "code",
   "execution_count": null,
   "id": "54f2bf60",
   "metadata": {},
   "outputs": [],
   "source": []
  },
  {
   "cell_type": "code",
   "execution_count": null,
   "id": "b0b64dba",
   "metadata": {},
   "outputs": [],
   "source": []
  },
  {
   "cell_type": "code",
   "execution_count": null,
   "id": "4d8172d6",
   "metadata": {},
   "outputs": [],
   "source": []
  },
  {
   "cell_type": "code",
   "execution_count": null,
   "id": "fff8a432",
   "metadata": {},
   "outputs": [],
   "source": []
  },
  {
   "cell_type": "code",
   "execution_count": null,
   "id": "49906d22",
   "metadata": {},
   "outputs": [],
   "source": []
  },
  {
   "cell_type": "code",
   "execution_count": null,
   "id": "c9238515",
   "metadata": {},
   "outputs": [],
   "source": []
  },
  {
   "cell_type": "code",
   "execution_count": null,
   "id": "571b81b4",
   "metadata": {},
   "outputs": [],
   "source": []
  },
  {
   "cell_type": "code",
   "execution_count": null,
   "id": "355f9b4f",
   "metadata": {},
   "outputs": [],
   "source": []
  }
 ],
 "metadata": {
  "kernelspec": {
   "display_name": "Python 3",
   "language": "python",
   "name": "python3"
  },
  "language_info": {
   "codemirror_mode": {
    "name": "ipython",
    "version": 3
   },
   "file_extension": ".py",
   "mimetype": "text/x-python",
   "name": "python",
   "nbconvert_exporter": "python",
   "pygments_lexer": "ipython3",
   "version": "3.8.8"
  }
 },
 "nbformat": 4,
 "nbformat_minor": 5
}
