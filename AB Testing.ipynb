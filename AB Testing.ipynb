{
 "cells": [
  {
   "cell_type": "code",
   "execution_count": 1,
   "id": "f54065fc",
   "metadata": {},
   "outputs": [],
   "source": [
    "import pandas as pd\n",
    "import numpy as np"
   ]
  },
  {
   "cell_type": "code",
   "execution_count": 2,
   "id": "827bbba5",
   "metadata": {},
   "outputs": [],
   "source": [
    "ab_testing = pd.read_csv('AB_test_data.csv')"
   ]
  },
  {
   "cell_type": "code",
   "execution_count": 3,
   "id": "e5b36f48",
   "metadata": {},
   "outputs": [
    {
     "data": {
      "text/html": [
       "<div>\n",
       "<style scoped>\n",
       "    .dataframe tbody tr th:only-of-type {\n",
       "        vertical-align: middle;\n",
       "    }\n",
       "\n",
       "    .dataframe tbody tr th {\n",
       "        vertical-align: top;\n",
       "    }\n",
       "\n",
       "    .dataframe thead th {\n",
       "        text-align: right;\n",
       "    }\n",
       "</style>\n",
       "<table border=\"1\" class=\"dataframe\">\n",
       "  <thead>\n",
       "    <tr style=\"text-align: right;\">\n",
       "      <th></th>\n",
       "      <th>purchase_TF</th>\n",
       "      <th>Variant</th>\n",
       "      <th>date</th>\n",
       "      <th>id</th>\n",
       "    </tr>\n",
       "  </thead>\n",
       "  <tbody>\n",
       "    <tr>\n",
       "      <th>0</th>\n",
       "      <td>False</td>\n",
       "      <td>A</td>\n",
       "      <td>2019-11-08</td>\n",
       "      <td>0x25b44a</td>\n",
       "    </tr>\n",
       "    <tr>\n",
       "      <th>1</th>\n",
       "      <td>False</td>\n",
       "      <td>B</td>\n",
       "      <td>2020-08-27</td>\n",
       "      <td>0x46271e</td>\n",
       "    </tr>\n",
       "    <tr>\n",
       "      <th>2</th>\n",
       "      <td>False</td>\n",
       "      <td>A</td>\n",
       "      <td>2020-06-11</td>\n",
       "      <td>0x80b8f1</td>\n",
       "    </tr>\n",
       "    <tr>\n",
       "      <th>3</th>\n",
       "      <td>False</td>\n",
       "      <td>B</td>\n",
       "      <td>2020-08-22</td>\n",
       "      <td>0x8d736d</td>\n",
       "    </tr>\n",
       "    <tr>\n",
       "      <th>4</th>\n",
       "      <td>False</td>\n",
       "      <td>A</td>\n",
       "      <td>2020-08-05</td>\n",
       "      <td>0x96c9c8</td>\n",
       "    </tr>\n",
       "    <tr>\n",
       "      <th>...</th>\n",
       "      <td>...</td>\n",
       "      <td>...</td>\n",
       "      <td>...</td>\n",
       "      <td>...</td>\n",
       "    </tr>\n",
       "    <tr>\n",
       "      <th>129995</th>\n",
       "      <td>False</td>\n",
       "      <td>A</td>\n",
       "      <td>2020-07-23</td>\n",
       "      <td>0x4089c2</td>\n",
       "    </tr>\n",
       "    <tr>\n",
       "      <th>129996</th>\n",
       "      <td>False</td>\n",
       "      <td>A</td>\n",
       "      <td>2020-06-24</td>\n",
       "      <td>0x6a5e3a</td>\n",
       "    </tr>\n",
       "    <tr>\n",
       "      <th>129997</th>\n",
       "      <td>False</td>\n",
       "      <td>A</td>\n",
       "      <td>2019-10-12</td>\n",
       "      <td>0x95e302</td>\n",
       "    </tr>\n",
       "    <tr>\n",
       "      <th>129998</th>\n",
       "      <td>False</td>\n",
       "      <td>A</td>\n",
       "      <td>2020-03-18</td>\n",
       "      <td>0x7c4afa</td>\n",
       "    </tr>\n",
       "    <tr>\n",
       "      <th>129999</th>\n",
       "      <td>False</td>\n",
       "      <td>A</td>\n",
       "      <td>2019-12-09</td>\n",
       "      <td>0x380071</td>\n",
       "    </tr>\n",
       "  </tbody>\n",
       "</table>\n",
       "<p>130000 rows × 4 columns</p>\n",
       "</div>"
      ],
      "text/plain": [
       "        purchase_TF Variant        date        id\n",
       "0             False       A  2019-11-08  0x25b44a\n",
       "1             False       B  2020-08-27  0x46271e\n",
       "2             False       A  2020-06-11  0x80b8f1\n",
       "3             False       B  2020-08-22  0x8d736d\n",
       "4             False       A  2020-08-05  0x96c9c8\n",
       "...             ...     ...         ...       ...\n",
       "129995        False       A  2020-07-23  0x4089c2\n",
       "129996        False       A  2020-06-24  0x6a5e3a\n",
       "129997        False       A  2019-10-12  0x95e302\n",
       "129998        False       A  2020-03-18  0x7c4afa\n",
       "129999        False       A  2019-12-09  0x380071\n",
       "\n",
       "[130000 rows x 4 columns]"
      ]
     },
     "execution_count": 3,
     "metadata": {},
     "output_type": "execute_result"
    }
   ],
   "source": [
    "ab_testing"
   ]
  },
  {
   "cell_type": "code",
   "execution_count": 4,
   "id": "5917f180",
   "metadata": {},
   "outputs": [
    {
     "data": {
      "text/plain": [
       "purchase_TF    False\n",
       "Variant        False\n",
       "date           False\n",
       "id             False\n",
       "dtype: bool"
      ]
     },
     "execution_count": 4,
     "metadata": {},
     "output_type": "execute_result"
    }
   ],
   "source": [
    "ab_testing.isnull().any()"
   ]
  },
  {
   "cell_type": "markdown",
   "id": "c315dbff",
   "metadata": {},
   "source": [
    "# Question 1"
   ]
  },
  {
   "cell_type": "code",
   "execution_count": 5,
   "id": "559e80ee",
   "metadata": {},
   "outputs": [],
   "source": [
    "control = ab_testing[ab_testing.Variant=='A']\n",
    "treatment = ab_testing[ab_testing.Variant=='B']\n",
    "#control\n",
    "#treatment"
   ]
  },
  {
   "cell_type": "code",
   "execution_count": 6,
   "id": "77a8d707",
   "metadata": {},
   "outputs": [
    {
     "data": {
      "text/html": [
       "<div>\n",
       "<style scoped>\n",
       "    .dataframe tbody tr th:only-of-type {\n",
       "        vertical-align: middle;\n",
       "    }\n",
       "\n",
       "    .dataframe tbody tr th {\n",
       "        vertical-align: top;\n",
       "    }\n",
       "\n",
       "    .dataframe thead th {\n",
       "        text-align: right;\n",
       "    }\n",
       "</style>\n",
       "<table border=\"1\" class=\"dataframe\">\n",
       "  <thead>\n",
       "    <tr style=\"text-align: right;\">\n",
       "      <th></th>\n",
       "      <th>purchase_TF</th>\n",
       "      <th>Variant</th>\n",
       "      <th>date</th>\n",
       "      <th>id</th>\n",
       "    </tr>\n",
       "  </thead>\n",
       "  <tbody>\n",
       "    <tr>\n",
       "      <th>0</th>\n",
       "      <td>False</td>\n",
       "      <td>A</td>\n",
       "      <td>2019-11-08</td>\n",
       "      <td>0x25b44a</td>\n",
       "    </tr>\n",
       "    <tr>\n",
       "      <th>2</th>\n",
       "      <td>False</td>\n",
       "      <td>A</td>\n",
       "      <td>2020-06-11</td>\n",
       "      <td>0x80b8f1</td>\n",
       "    </tr>\n",
       "    <tr>\n",
       "      <th>4</th>\n",
       "      <td>False</td>\n",
       "      <td>A</td>\n",
       "      <td>2020-08-05</td>\n",
       "      <td>0x96c9c8</td>\n",
       "    </tr>\n",
       "    <tr>\n",
       "      <th>5</th>\n",
       "      <td>False</td>\n",
       "      <td>A</td>\n",
       "      <td>2020-03-10</td>\n",
       "      <td>0x751c24</td>\n",
       "    </tr>\n",
       "    <tr>\n",
       "      <th>6</th>\n",
       "      <td>False</td>\n",
       "      <td>A</td>\n",
       "      <td>2019-11-05</td>\n",
       "      <td>0x60d2bd</td>\n",
       "    </tr>\n",
       "    <tr>\n",
       "      <th>...</th>\n",
       "      <td>...</td>\n",
       "      <td>...</td>\n",
       "      <td>...</td>\n",
       "      <td>...</td>\n",
       "    </tr>\n",
       "    <tr>\n",
       "      <th>129995</th>\n",
       "      <td>False</td>\n",
       "      <td>A</td>\n",
       "      <td>2020-07-23</td>\n",
       "      <td>0x4089c2</td>\n",
       "    </tr>\n",
       "    <tr>\n",
       "      <th>129996</th>\n",
       "      <td>False</td>\n",
       "      <td>A</td>\n",
       "      <td>2020-06-24</td>\n",
       "      <td>0x6a5e3a</td>\n",
       "    </tr>\n",
       "    <tr>\n",
       "      <th>129997</th>\n",
       "      <td>False</td>\n",
       "      <td>A</td>\n",
       "      <td>2019-10-12</td>\n",
       "      <td>0x95e302</td>\n",
       "    </tr>\n",
       "    <tr>\n",
       "      <th>129998</th>\n",
       "      <td>False</td>\n",
       "      <td>A</td>\n",
       "      <td>2020-03-18</td>\n",
       "      <td>0x7c4afa</td>\n",
       "    </tr>\n",
       "    <tr>\n",
       "      <th>129999</th>\n",
       "      <td>False</td>\n",
       "      <td>A</td>\n",
       "      <td>2019-12-09</td>\n",
       "      <td>0x380071</td>\n",
       "    </tr>\n",
       "  </tbody>\n",
       "</table>\n",
       "<p>125000 rows × 4 columns</p>\n",
       "</div>"
      ],
      "text/plain": [
       "        purchase_TF Variant        date        id\n",
       "0             False       A  2019-11-08  0x25b44a\n",
       "2             False       A  2020-06-11  0x80b8f1\n",
       "4             False       A  2020-08-05  0x96c9c8\n",
       "5             False       A  2020-03-10  0x751c24\n",
       "6             False       A  2019-11-05  0x60d2bd\n",
       "...             ...     ...         ...       ...\n",
       "129995        False       A  2020-07-23  0x4089c2\n",
       "129996        False       A  2020-06-24  0x6a5e3a\n",
       "129997        False       A  2019-10-12  0x95e302\n",
       "129998        False       A  2020-03-18  0x7c4afa\n",
       "129999        False       A  2019-12-09  0x380071\n",
       "\n",
       "[125000 rows x 4 columns]"
      ]
     },
     "execution_count": 6,
     "metadata": {},
     "output_type": "execute_result"
    }
   ],
   "source": [
    "control"
   ]
  },
  {
   "cell_type": "code",
   "execution_count": 7,
   "id": "0ea86d99",
   "metadata": {},
   "outputs": [],
   "source": [
    "control_F = control[control.purchase_TF == False]\n",
    "control_T = control[control.purchase_TF == True]"
   ]
  },
  {
   "cell_type": "code",
   "execution_count": 8,
   "id": "c5c6e92d",
   "metadata": {},
   "outputs": [],
   "source": [
    "treatment_F = treatment[treatment.purchase_TF == False]\n",
    "treatment_T = treatment[treatment.purchase_TF == True]"
   ]
  },
  {
   "cell_type": "code",
   "execution_count": 9,
   "id": "5d7ed782",
   "metadata": {},
   "outputs": [
    {
     "data": {
      "text/plain": [
       "0.149616"
      ]
     },
     "execution_count": 9,
     "metadata": {},
     "output_type": "execute_result"
    }
   ],
   "source": [
    "# number of purchased in control group divided by the total number of control group\n",
    "# conversion rate of the control group \n",
    "conv_A = control_T.shape[0]/control.shape[0]\n",
    "conv_A"
   ]
  },
  {
   "cell_type": "code",
   "execution_count": 10,
   "id": "9eef18d4",
   "metadata": {},
   "outputs": [
    {
     "data": {
      "text/plain": [
       "0.1766"
      ]
     },
     "execution_count": 10,
     "metadata": {},
     "output_type": "execute_result"
    }
   ],
   "source": [
    "# number of purchases in treatment group divided by the total number of treatment group\n",
    "# conversion rate of the treatment group\n",
    "conv_B = treatment_T.shape[0]/treatment.shape[0]\n",
    "conv_B"
   ]
  },
  {
   "cell_type": "code",
   "execution_count": 11,
   "id": "d7ad44ff",
   "metadata": {},
   "outputs": [
    {
     "name": "stdout",
     "output_type": "stream",
     "text": [
      "The z score for this A/B test is 5.35\n",
      "Therefore we reject the null hypothesis.\n"
     ]
    }
   ],
   "source": [
    "z_score = (conv_B - conv_A)/pow((conv_A*(1-conv_A))/len(treatment),0.5) #one-sample z test\n",
    "print(f'The z score for this A/B test is {z_score:.2f}')\n",
    "if z_score >= 1.64:\n",
    "    print('Therefore we reject the null hypothesis.')\n",
    "else:\n",
    "    print('Therefore we fail to Reject null hypothesis.')"
   ]
  },
  {
   "cell_type": "markdown",
   "id": "8f80a96a",
   "metadata": {},
   "source": [
    "# Question 2"
   ]
  },
  {
   "cell_type": "markdown",
   "id": "f4d83087",
   "metadata": {},
   "source": [
    "# H0: p1 ≥ p2\n",
    "# Ha: p1 < p2 "
   ]
  },
  {
   "cell_type": "code",
   "execution_count": 12,
   "id": "c8c79897",
   "metadata": {},
   "outputs": [],
   "source": [
    "# H0 is the ammsumption we want to reject, if we found that treatment group performs better than the control group"
   ]
  },
  {
   "cell_type": "code",
   "execution_count": 13,
   "id": "b9e653a6",
   "metadata": {},
   "outputs": [],
   "source": [
    "# 95% confidence rate =(1-α)\n",
    "# α = 0.05 = Significance Level = probability of type 1 error \n",
    "# 80% Statistical Power = (1-β)\n",
    "# β = 0.2 = probability of type 2 error \n",
    "\n",
    "# Baseline Rate = conversionrate_A = 0.149616\n",
    "# Minimum Detectable Effect = 0.05"
   ]
  },
  {
   "cell_type": "code",
   "execution_count": 14,
   "id": "8c550612",
   "metadata": {},
   "outputs": [],
   "source": [
    "import math"
   ]
  },
  {
   "cell_type": "code",
   "execution_count": 15,
   "id": "5ae25e33",
   "metadata": {},
   "outputs": [],
   "source": [
    "# z_A = z_α/2 = z_0.025\n",
    "# calculate z score：\n",
    "# z=norm.isf(0.05/2)\n",
    "#z_A = 1.96 \n",
    "\n",
    "# z_B = z_β = z_0.2\n",
    "# calculate z score：\n",
    "# z=norm.isf(0.2)\n",
    "#z_B = 0.84"
   ]
  },
  {
   "cell_type": "code",
   "execution_count": 16,
   "id": "ced9c9d5",
   "metadata": {},
   "outputs": [],
   "source": [
    "from scipy.stats import norm\n",
    "t_A = abs(norm(0,1).ppf(0.025))\n",
    "t_B = abs(norm(0,1).ppf(0.2))"
   ]
  },
  {
   "cell_type": "code",
   "execution_count": 17,
   "id": "b9dd7663",
   "metadata": {},
   "outputs": [
    {
     "name": "stdout",
     "output_type": "stream",
     "text": [
      "1.9599639845400545\n",
      "0.8416212335729142\n"
     ]
    }
   ],
   "source": [
    "print(t_A)\n",
    "print(t_B)"
   ]
  },
  {
   "cell_type": "code",
   "execution_count": 18,
   "id": "cc4254f0",
   "metadata": {},
   "outputs": [],
   "source": [
    "p1 = conv_A\n",
    "# 0.149616\n",
    "p2 = conv_B\n",
    "# 0.1766"
   ]
  },
  {
   "cell_type": "code",
   "execution_count": 19,
   "id": "bc383081",
   "metadata": {},
   "outputs": [],
   "source": [
    "# using formula to calculate optimal sample size"
   ]
  },
  {
   "cell_type": "code",
   "execution_count": 20,
   "id": "ae5d97cd",
   "metadata": {},
   "outputs": [
    {
     "data": {
      "text/plain": [
       "2942"
      ]
     },
     "execution_count": 20,
     "metadata": {},
     "output_type": "execute_result"
    }
   ],
   "source": [
    "p1 = conv_A\n",
    "# 0.149616\n",
    "p2 = conv_B\n",
    "# 0.1766\n",
    "a = 2*(p1+p2)/2\n",
    "b = 1- (p1+p2)/2\n",
    "c = p1*(1-p1)\n",
    "d = p2*(1-p2) \n",
    "e = abs(p1-p2) #mde\n",
    "\n",
    "opt_size = ((t_A * math.sqrt(a * b)+t_B * math.sqrt(c+d))**2)/e**2\n",
    "opt_size = math.ceil(opt_size)\n",
    "opt_size"
   ]
  },
  {
   "cell_type": "code",
   "execution_count": 21,
   "id": "f22d0ea4",
   "metadata": {},
   "outputs": [],
   "source": [
    "# the optimal sample size is 2942"
   ]
  },
  {
   "cell_type": "markdown",
   "id": "c194ae85",
   "metadata": {},
   "source": [
    "# 10 samples"
   ]
  },
  {
   "cell_type": "code",
   "execution_count": 22,
   "id": "7db2c687",
   "metadata": {},
   "outputs": [],
   "source": [
    "import pandas as pd\n",
    "import numpy as np"
   ]
  },
  {
   "cell_type": "code",
   "execution_count": 23,
   "id": "6d2d427d",
   "metadata": {},
   "outputs": [],
   "source": [
    "new_ab_testing = pd.read_csv('AB_test_data.csv')"
   ]
  },
  {
   "cell_type": "code",
   "execution_count": 24,
   "id": "623ac355",
   "metadata": {},
   "outputs": [
    {
     "name": "stdout",
     "output_type": "stream",
     "text": [
      "<class 'pandas.core.frame.DataFrame'>\n",
      "RangeIndex: 130000 entries, 0 to 129999\n",
      "Data columns (total 4 columns):\n",
      " #   Column       Non-Null Count   Dtype \n",
      "---  ------       --------------   ----- \n",
      " 0   purchase_TF  130000 non-null  bool  \n",
      " 1   Variant      130000 non-null  object\n",
      " 2   date         130000 non-null  object\n",
      " 3   id           130000 non-null  object\n",
      "dtypes: bool(1), object(3)\n",
      "memory usage: 3.1+ MB\n"
     ]
    }
   ],
   "source": [
    "new_ab_testing.info()"
   ]
  },
  {
   "cell_type": "code",
   "execution_count": 25,
   "id": "20a161b8",
   "metadata": {},
   "outputs": [
    {
     "data": {
      "text/html": [
       "<div>\n",
       "<style scoped>\n",
       "    .dataframe tbody tr th:only-of-type {\n",
       "        vertical-align: middle;\n",
       "    }\n",
       "\n",
       "    .dataframe tbody tr th {\n",
       "        vertical-align: top;\n",
       "    }\n",
       "\n",
       "    .dataframe thead th {\n",
       "        text-align: right;\n",
       "    }\n",
       "</style>\n",
       "<table border=\"1\" class=\"dataframe\">\n",
       "  <thead>\n",
       "    <tr style=\"text-align: right;\">\n",
       "      <th>purchase_TF</th>\n",
       "      <th>False</th>\n",
       "      <th>True</th>\n",
       "    </tr>\n",
       "    <tr>\n",
       "      <th>Variant</th>\n",
       "      <th></th>\n",
       "      <th></th>\n",
       "    </tr>\n",
       "  </thead>\n",
       "  <tbody>\n",
       "    <tr>\n",
       "      <th>A</th>\n",
       "      <td>106298</td>\n",
       "      <td>18702</td>\n",
       "    </tr>\n",
       "    <tr>\n",
       "      <th>B</th>\n",
       "      <td>4117</td>\n",
       "      <td>883</td>\n",
       "    </tr>\n",
       "  </tbody>\n",
       "</table>\n",
       "</div>"
      ],
      "text/plain": [
       "purchase_TF   False  True \n",
       "Variant                   \n",
       "A            106298  18702\n",
       "B              4117    883"
      ]
     },
     "execution_count": 25,
     "metadata": {},
     "output_type": "execute_result"
    }
   ],
   "source": [
    "pd.crosstab(new_ab_testing['Variant'], new_ab_testing['purchase_TF'])"
   ]
  },
  {
   "cell_type": "code",
   "execution_count": 26,
   "id": "bc7f7765",
   "metadata": {},
   "outputs": [],
   "source": [
    "# Before we go ahead and sample the data to get our subset, \n",
    "#let’s make sure there are no users that have been sampled multiple times."
   ]
  },
  {
   "cell_type": "code",
   "execution_count": 27,
   "id": "f748ddd6",
   "metadata": {},
   "outputs": [],
   "source": [
    "session_counts = new_ab_testing['id'].value_counts(ascending=False)"
   ]
  },
  {
   "cell_type": "code",
   "execution_count": 28,
   "id": "c4b7cfdb",
   "metadata": {},
   "outputs": [
    {
     "name": "stdout",
     "output_type": "stream",
     "text": [
      "There are 0 users that appear multiple times in the dataset\n"
     ]
    }
   ],
   "source": [
    "multi_users = session_counts[session_counts > 1].count()\n",
    "\n",
    "print(f'There are {multi_users} users that appear multiple times in the dataset')"
   ]
  },
  {
   "cell_type": "code",
   "execution_count": null,
   "id": "8aaaad3d",
   "metadata": {},
   "outputs": [],
   "source": []
  },
  {
   "cell_type": "code",
   "execution_count": 29,
   "id": "cf72b59b",
   "metadata": {},
   "outputs": [
    {
     "name": "stdout",
     "output_type": "stream",
     "text": [
      "The z score is 5.51. Therefore we reject the null hypothesis.\n",
      "The z score is 2.77. Therefore we reject the null hypothesis.\n",
      "The z score is 4.08. Therefore we reject the null hypothesis.\n",
      "The z score is 4.52. Therefore we reject the null hypothesis.\n",
      "The z score is 6.70. Therefore we reject the null hypothesis.\n",
      "The z score is 4.41. Therefore we reject the null hypothesis.\n",
      "The z score is 5.15. Therefore we reject the null hypothesis.\n",
      "The z score is 3.62. Therefore we reject the null hypothesis.\n",
      "The z score is 5.54. Therefore we reject the null hypothesis.\n",
      "The z score is 5.05. Therefore we reject the null hypothesis.\n"
     ]
    }
   ],
   "source": [
    "#Randomly select the data into 10 samples\n",
    "samplelist = []\n",
    "for i in range(0,10):\n",
    "    control_sample = new_ab_testing[new_ab_testing['Variant'] == 'A'].sample(n=opt_size, random_state=i+30)\n",
    "    treatment_sample = new_ab_testing[new_ab_testing['Variant'] == 'B'].sample(n=opt_size, random_state=i+30)\n",
    "    cvr_A = sum(control_sample['purchase_TF'])/len(control_sample['purchase_TF'])\n",
    "    cvr_B = sum(treatment_sample['purchase_TF'])/len(treatment_sample['purchase_TF'])\n",
    "    z_score = (cvr_B - cvr_A)/pow((cvr_A*(1-cvr_A))/len(treatment_sample),0.5)\n",
    "    \n",
    "    \n",
    "    if z_score >= 1.64:\n",
    "        print('The z score is %.2f. Therefore we reject the null hypothesis.'%z_score)\n",
    "    else:\n",
    "        print('The z score is %.2f. Therefore we fail to Reject null hypothesis.'%z_score)\n",
    "    ab_test = pd.concat([control_sample, treatment_sample], axis=0)\n",
    "    samplelist.append(ab_test)\n",
    "    ab_test.reset_index(drop=True, inplace=True)\n"
   ]
  },
  {
   "cell_type": "code",
   "execution_count": null,
   "id": "e7807058",
   "metadata": {},
   "outputs": [],
   "source": []
  },
  {
   "cell_type": "code",
   "execution_count": 30,
   "id": "72b4b747",
   "metadata": {},
   "outputs": [],
   "source": [
    "#control_sample = new_ab_testing[new_ab_testing['Variant'] == 'A'].sample(n=opt_size, random_state=68)\n",
    "#treatment_sample = new_ab_testing[new_ab_testing['Variant'] == 'B'].sample(n=opt_size, random_state=68)\n",
    "# n needs to be int, so we need to math.ceil or int our optimal size calculating before"
   ]
  },
  {
   "cell_type": "code",
   "execution_count": 31,
   "id": "88bb7c41",
   "metadata": {},
   "outputs": [],
   "source": [
    "#ab_test = pd.concat([control_sample, treatment_sample], axis=0)\n",
    "#ab_test.reset_index(drop=True, inplace=True)"
   ]
  },
  {
   "cell_type": "code",
   "execution_count": 32,
   "id": "36d6dc9f",
   "metadata": {},
   "outputs": [],
   "source": [
    "#ab_test"
   ]
  },
  {
   "cell_type": "code",
   "execution_count": null,
   "id": "7e45c6ea",
   "metadata": {},
   "outputs": [],
   "source": []
  },
  {
   "cell_type": "markdown",
   "id": "546eaeba",
   "metadata": {},
   "source": [
    "# Question 3"
   ]
  },
  {
   "cell_type": "code",
   "execution_count": null,
   "id": "346aa848",
   "metadata": {},
   "outputs": [],
   "source": []
  },
  {
   "cell_type": "code",
   "execution_count": 33,
   "id": "94a3b34a",
   "metadata": {},
   "outputs": [],
   "source": [
    "# 95% confidence rate =(1-α)\n",
    "# α = 0.05 = Significance Level = probability of type 1 error \n",
    "# 80% Statistical Power = (1-β)\n",
    "# β = 0.2 = probability of type 2 error \n",
    "\n",
    "# Baseline Rate = conversionrate_A = 0.149616\n",
    "# Minimum Detectable Effect = 0.05"
   ]
  },
  {
   "cell_type": "code",
   "execution_count": 34,
   "id": "6fa3b331",
   "metadata": {},
   "outputs": [],
   "source": [
    "control_F = control[control.purchase_TF == False]\n",
    "control_T = control[control.purchase_TF == True]"
   ]
  },
  {
   "cell_type": "code",
   "execution_count": 35,
   "id": "cf6f0005",
   "metadata": {},
   "outputs": [],
   "source": [
    "p1 = conv_A #p(h0)\n",
    "# 0.149616\n",
    "p2 = conv_B #p(h1)\n",
    "# 0.1766"
   ]
  },
  {
   "cell_type": "code",
   "execution_count": 36,
   "id": "c0165783",
   "metadata": {},
   "outputs": [
    {
     "name": "stdout",
     "output_type": "stream",
     "text": [
      "Boundary A is 2.995732273553991\n",
      "Boundary B is -1.6094379124341003\n"
     ]
    }
   ],
   "source": [
    "α = 0.05\n",
    "β = 0.2\n",
    "boundA = np.log(1/α) #lnA\n",
    "print(\"Boundary A is\", boundA)\n",
    "boundB = np.log(β) #lnB\n",
    "print(\"Boundary B is\", boundB)"
   ]
  },
  {
   "cell_type": "code",
   "execution_count": 37,
   "id": "2bc08a80",
   "metadata": {},
   "outputs": [
    {
     "name": "stdout",
     "output_type": "stream",
     "text": [
      "We will reject H_0 for sample 1 on iteration 334\n",
      "We will not reject H_0 for sample 2 on iteration 457\n",
      "We will reject H_0 for sample 3 on iteration 853\n",
      "We will reject H_0 for sample 4 on iteration 254\n",
      "We will reject H_0 for sample 5 on iteration 475\n",
      "We will reject H_0 for sample 6 on iteration 587\n",
      "We will reject H_0 for sample 7 on iteration 191\n",
      "We will reject H_0 for sample 8 on iteration 384\n",
      "We will reject H_0 for sample 9 on iteration 464\n",
      "We will reject H_0 for sample 10 on iteration 346\n",
      "The average number of iterations is 434.5\n"
     ]
    }
   ],
   "source": [
    "iteration = 0\n",
    "time = 0\n",
    "for i in range (1,11):\n",
    "    #print(i)\n",
    "    curln = 0\n",
    "    ln =0\n",
    "    j = 0\n",
    "    cur = samplelist[i-1]\n",
    "    #print(cur)\n",
    "    A = cur[cur['Variant']=='A']\n",
    "    m0 = len(A[\"purchase_TF\"][A.purchase_TF == True])/len(A[\"purchase_TF\"])\n",
    "    B = cur[cur['Variant']=='B']\n",
    "    m1 =len(B[\"purchase_TF\"][B.purchase_TF == True])/len(B[\"purchase_TF\"])\n",
    "    while j<2942:\n",
    "        #print(B[\"purchase_TF\"][j:j+1])\n",
    "        d = int(B[\"purchase_TF\"][j:j+1])\n",
    "        #print(diff)\n",
    "        if d == 1:\n",
    "            #print(diff)\n",
    "            ln = math.log(m1/m0)\n",
    "        elif d == 0:\n",
    "            ln = math.log((1-m1)/(1-m0))\n",
    "            #print(ln)\n",
    "        curln += ln\n",
    "        if curln <= boundB:\n",
    "            print(\"We will not reject H_0 for sample\",i,\"on iteration\",j)\n",
    "            iteration += j\n",
    "            time+=1\n",
    "            break\n",
    "        elif curln >= boundA:\n",
    "            print(\"We will reject H_0 for sample\",i,\"on iteration\",j)\n",
    "            iteration += j\n",
    "            time+=1\n",
    "            break\n",
    "        \n",
    "        j+=1\n",
    "average = iteration/time\n",
    "print(\"The average number of iterations is\", average)\n",
    "\n"
   ]
  },
  {
   "cell_type": "code",
   "execution_count": null,
   "id": "25874010",
   "metadata": {},
   "outputs": [],
   "source": []
  },
  {
   "cell_type": "code",
   "execution_count": null,
   "id": "1eef7f47",
   "metadata": {},
   "outputs": [],
   "source": []
  },
  {
   "cell_type": "code",
   "execution_count": null,
   "id": "25f27701",
   "metadata": {},
   "outputs": [],
   "source": []
  }
 ],
 "metadata": {
  "kernelspec": {
   "display_name": "Python 3",
   "language": "python",
   "name": "python3"
  },
  "language_info": {
   "codemirror_mode": {
    "name": "ipython",
    "version": 3
   },
   "file_extension": ".py",
   "mimetype": "text/x-python",
   "name": "python",
   "nbconvert_exporter": "python",
   "pygments_lexer": "ipython3",
   "version": "3.8.8"
  }
 },
 "nbformat": 4,
 "nbformat_minor": 5
}
